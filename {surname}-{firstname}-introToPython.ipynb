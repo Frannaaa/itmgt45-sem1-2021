{
 "cells": [
  {
   "cell_type": "markdown",
   "id": "d0909204-b097-4804-a3ae-a6c500bf44a2",
   "metadata": {},
   "source": [
    "# Assignment: Intro to Python\n",
    "\n",
    "## Instructions\n",
    "\n",
    "This is the template file for the assignment of Module 4 called \"Intro to Python.\" Please carefully follow the instructions below.\n",
    "\n",
    "1. Rename this file by filling out your surname and first name in the file name. For example, if your surname is Ilagan and if your first name is Joben, then rename the file to ILAGAN-JOBEN-introToPython.ipynb.\n",
    "2. Fill out the markdown cell just above `Problem 1` with your student details as indicated.  \n",
    "3. To submit this file, first, upload your file to your GitHub repository and, second, submit your repository link to the assignment on Canvas.\n"
   ]
  },
  {
   "cell_type": "markdown",
   "id": "b23ee3e7-b7cf-4308-9039-f964ece290ae",
   "metadata": {},
   "source": [
    "## Student Details\n",
    "\n",
    "ID Number: 221927  \n",
    "Surname: de Asis  \n",
    "Year and Course: 2 BS ITE  "
   ]
  },
  {
   "cell_type": "markdown",
   "id": "65851df5-b5ac-4b96-8eaf-a8642ad1ef23",
   "metadata": {
    "tags": []
   },
   "source": [
    "## Problem 1 (5 points)\n",
    "\n",
    "Write a program that prompts the user to input three positive integers and outputs the average of those three positive integers."
   ]
  },
  {
   "cell_type": "code",
   "execution_count": null,
   "id": "10243e03-a960-4dcd-8be1-4946fbfe84cf",
   "metadata": {},
   "outputs": [],
   "source": [
    "# Function to calculate the average of three numbers",
    "def three_number_average(num1, num2, num3):",
    "    return (num1 + num2 + num3) / 3",
    "\n",
    "# Main program",
    "def main():",
    "    # Prompting user for three positive integers",
    "    first_number = int(input(\"Enter first number: \"))",
    "    second_number = int(input(\"Enter second number: \"))",
    "    third_number = int(input(\"Enter third number: \"))",
    "\n",
    "    # Calculating the average",
    "    average = three_number_average(first_number, second_number, third_number)",
    "\n",
    "    # Displaying the result",
    "    print(f\"The average is {average}\")",
    "\n",
    "# Run the main function",
    "if __name__ == \"__main__\":",
    "    main()"
   ]
  }
 ],
 "metadata": {
  "kernelspec": {
   "display_name": "Python 3 (ipykernel)",
   "language": "python",
   "name": "python3"
  },
  "language_info": {
   "codemirror_mode": {
    "name": "ipython",
    "version": 3
   },
   "file_extension": ".py",
  
